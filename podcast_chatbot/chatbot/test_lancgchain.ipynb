{
 "cells": [
  {
   "cell_type": "code",
   "execution_count": 5,
   "metadata": {},
   "outputs": [],
   "source": [
    "__import__('pysqlite3')\n",
    "import sys\n",
    "sys.modules['sqlite3'] = sys.modules.pop('pysqlite3')\n",
    "# from django.conf import settings"
   ]
  },
  {
   "cell_type": "code",
   "execution_count": 12,
   "metadata": {},
   "outputs": [],
   "source": [
    "from pinecone import Pinecone, ServerlessSpec, PodSpec\n",
    "import time\n",
    "import os\n",
    "from pathlib import Path\n",
    "import yaml\n",
    "BASE_DIR = Path('./').resolve().parent\n",
    "def load_config():\n",
    "    with open(os.path.join(BASE_DIR.parent, 'keys.yaml'), 'r') as file:\n",
    "        config = yaml.safe_load(file)\n",
    "        return config\n",
    "\n",
    "config = load_config()\n",
    "pinecone_api_key = config['api_keys']['PINECONE_API_KEY']\n",
    "use_serverless = True\n",
    "pc = Pinecone(api_key=pinecone_api_key)  "
   ]
  },
  {
   "cell_type": "code",
   "execution_count": 2,
   "metadata": {},
   "outputs": [
    {
     "data": {
      "text/plain": [
       "{'dimension': 1536,\n",
       " 'index_fullness': 0.0,\n",
       " 'namespaces': {'Skull0412_3': {'vector_count': 49}},\n",
       " 'total_vector_count': 49}"
      ]
     },
     "execution_count": 2,
     "metadata": {},
     "output_type": "execute_result"
    }
   ],
   "source": [
    "index = pc.Index('podcasts')  \n",
    "index.describe_index_stats() "
   ]
  },
  {
   "cell_type": "code",
   "execution_count": 13,
   "metadata": {},
   "outputs": [],
   "source": [
    "if use_serverless:  \n",
    "    spec = ServerlessSpec(cloud='aws', region='us-east-1')  \n",
    "else:  \n",
    "    # if not using a starter index, you should specify a pod_type too  \n",
    "    spec = PodSpec()  \n",
    "# check for and delete index if already exists  \n",
    "index_name = 'podcasts'  \n",
    "if index_name in pc.list_indexes().names():  \n",
    "    pc.delete_index(index_name)  \n",
    "# create a new index  \n",
    "pc.create_index(  \n",
    "    index_name,  \n",
    "    dimension=1536,  # dimensionality of text-embedding-ada-002  \n",
    "    metric='cosine',  \n",
    "    spec=spec  \n",
    ")  \n",
    "# wait for index to be initialized  \n",
    "while not pc.describe_index(index_name).status['ready']:  \n",
    "    time.sleep(1)  \n"
   ]
  },
  {
   "cell_type": "code",
   "execution_count": 14,
   "metadata": {},
   "outputs": [
    {
     "data": {
      "text/plain": [
       "{'dimension': 1536,\n",
       " 'index_fullness': 0.0,\n",
       " 'namespaces': {},\n",
       " 'total_vector_count': 0}"
      ]
     },
     "execution_count": 14,
     "metadata": {},
     "output_type": "execute_result"
    }
   ],
   "source": [
    "index = pc.Index('podcasts')  \n",
    "index.describe_index_stats() "
   ]
  },
  {
   "cell_type": "code",
   "execution_count": 2,
   "metadata": {},
   "outputs": [
    {
     "name": "stdout",
     "output_type": "stream",
     "text": [
      "Length of splits: 49\n"
     ]
    },
    {
     "name": "stderr",
     "output_type": "stream",
     "text": [
      "Parent run 5821e5b1-c5ef-46c4-81f7-72fd8fd7bd2e not found for run be47bdac-1751-41e0-9820-3b47235b4610. Treating as a root run.\n"
     ]
    },
    {
     "data": {
      "text/plain": [
       "'Hamas has faced significant damage to its military capabilities, but they are still able to continue launching rockets against Israel. The Israeli government and many in Israel want Hamas destroyed, including their leadership and fighters, but they have not achieved that military outcome yet.'"
      ]
     },
     "execution_count": 2,
     "metadata": {},
     "output_type": "execute_result"
    }
   ],
   "source": [
    "import os\n",
    "from langchain.chains import create_history_aware_retriever, create_retrieval_chain\n",
    "from langchain.chains.combine_documents import create_stuff_documents_chain\n",
    "from langchain_chroma import Chroma\n",
    "from langchain_community.chat_message_histories import ChatMessageHistory\n",
    "from langchain_community.document_loaders import TextLoader\n",
    "from langchain_core.chat_history import BaseChatMessageHistory\n",
    "from langchain_core.prompts import ChatPromptTemplate, MessagesPlaceholder\n",
    "from langchain_core.runnables.history import RunnableWithMessageHistory\n",
    "from langchain_openai import ChatOpenAI, OpenAIEmbeddings\n",
    "from langchain_text_splitters import RecursiveCharacterTextSplitter\n",
    "from langchain_pinecone import PineconeVectorStore\n",
    "\n",
    "\n",
    "os.environ[\"OPENAI_API_KEY\"] = config['api_keys']['OPENAI_API_KEY']\n",
    "os.environ[\"LANGCHAIN_TRACING_V2\"] = \"true\"\n",
    "os.environ[\"LANGCHAIN_API_KEY\"] = config['api_keys']['LANGCHAIN_API_KEY']\n",
    "os.environ[\"PINECONE_API_KEY\"] = config['api_keys']['PINECONE_API_KEY']\n",
    "os.environ[\"PINECONE_INDEX_NAME\"] = \"podcasts\"\n",
    "\n",
    "llm = ChatOpenAI(model=\"gpt-3.5-turbo\", temperature=0) \n",
    "\n",
    "loader = TextLoader(\"/home/gaurav/Documents/Project/podcast_chatbot/media/podcasts/Skull0412/46_mins/46_mins.txt\")\n",
    "docs = loader.load()\n",
    "\n",
    "text_splitter = RecursiveCharacterTextSplitter(chunk_size=1000, chunk_overlap=200)\n",
    "splits = text_splitter.split_documents(docs)\n",
    "print(f\"Length of splits: {len(splits)}\")\n",
    "embeddings = OpenAIEmbeddings()\n",
    "vectorstore = PineconeVectorStore(index_name=\"podcasts\", embedding=embeddings)\n",
    "vectorstore.add_documents(splits, namespace=\"skull0412\")\n",
    "retriever = vectorstore.as_retriever(search_kwargs={\"namespace\": \"skull0412\"})\n",
    "\n",
    "### Contextualize question ###\n",
    "contextualize_q_system_prompt = \"\"\"Given a chat history and the latest user question \\\n",
    "which might reference context in the chat history, formulate a standalone question \\\n",
    "which can be understood without the chat history. Do NOT answer the question, \\\n",
    "just reformulate it if needed and otherwise return it as is.\"\"\"\n",
    "contextualize_q_prompt = ChatPromptTemplate.from_messages(\n",
    "    [\n",
    "        (\"system\", contextualize_q_system_prompt),\n",
    "        MessagesPlaceholder(\"chat_history\"),\n",
    "        (\"human\", \"{input}\"),\n",
    "    ]\n",
    ")\n",
    "history_aware_retriever = create_history_aware_retriever(\n",
    "    llm, retriever, contextualize_q_prompt\n",
    ")\n",
    "\n",
    "\n",
    "### Answer question ###\n",
    "qa_system_prompt = \"\"\"You are a chatbot assistant answering user's questions from the podcast they uploaded. \\\n",
    "Use the following pieces of retrieved context from the podcast's transcript to answer the question. \\\n",
    "If you don't know the answer, just say that you don't know. \\\n",
    "Dont't ask the user for more information about the podcast. \\\n",
    "If the user asks something that is not in the context, just say that you don't know. \\\n",
    "Chat with the user in human tone as if you are an expert about that podcast. \\\n",
    "Keep the answer concise.\\\n",
    "\n",
    "{context}\"\"\"\n",
    "qa_prompt = ChatPromptTemplate.from_messages(\n",
    "    [\n",
    "        (\"system\", qa_system_prompt),\n",
    "        MessagesPlaceholder(\"chat_history\"),\n",
    "        (\"human\", \"{input}\"),\n",
    "    ]\n",
    ")\n",
    "question_answer_chain = create_stuff_documents_chain(llm, qa_prompt)\n",
    "\n",
    "rag_chain = create_retrieval_chain(history_aware_retriever, question_answer_chain)\n",
    "\n",
    "\n",
    "### Statefully manage chat history ###\n",
    "store = {}\n",
    "\n",
    "\n",
    "def get_session_history(session_id: str) -> BaseChatMessageHistory:\n",
    "    if session_id not in store:\n",
    "        store[session_id] = ChatMessageHistory()\n",
    "    return store[session_id]\n",
    "\n",
    "\n",
    "conversational_rag_chain = RunnableWithMessageHistory(\n",
    "    rag_chain,\n",
    "    get_session_history,\n",
    "    input_messages_key=\"input\",\n",
    "    history_messages_key=\"chat_history\",\n",
    "    output_messages_key=\"answer\",\n",
    ")\n",
    "\n",
    "\n",
    "conversational_rag_chain.invoke(\n",
    "    {\"input\": \"How much damage has Hamas faced?\"},\n",
    "    config={\n",
    "        \"configurable\": {\"session_id\": \"abc123\"}\n",
    "    },  # constructs a key \"abc123\" in `store`.\n",
    ")[\"answer\"]"
   ]
  },
  {
   "cell_type": "code",
   "execution_count": 11,
   "metadata": {},
   "outputs": [
    {
     "data": {
      "text/plain": [
       "{'dimension': 1536,\n",
       " 'index_fullness': 0.0,\n",
       " 'namespaces': {'skull0412': {'vector_count': 49}},\n",
       " 'total_vector_count': 49}"
      ]
     },
     "execution_count": 11,
     "metadata": {},
     "output_type": "execute_result"
    }
   ],
   "source": [
    "index = pc.Index(index_name)  \n",
    "index.describe_index_stats() "
   ]
  },
  {
   "cell_type": "code",
   "execution_count": 12,
   "metadata": {},
   "outputs": [
    {
     "name": "stderr",
     "output_type": "stream",
     "text": [
      "Parent run dce6ded8-91ef-4380-805b-e61f71faeaf8 not found for run 18762578-aa17-4773-84d9-b3aa39c02777. Treating as a root run.\n"
     ]
    },
    {
     "data": {
      "text/plain": [
       "\"I'm here and ready to help. How can I assist you today?\""
      ]
     },
     "execution_count": 12,
     "metadata": {},
     "output_type": "execute_result"
    }
   ],
   "source": [
    "conversational_rag_chain.invoke(\n",
    "    {\"input\": \"Hi, how are you?\"},\n",
    "    config={\n",
    "        \"configurable\": {\"session_id\": \"abc123\"}\n",
    "    },  # constructs a key \"abc123\" in `store`.\n",
    ")[\"answer\"]"
   ]
  },
  {
   "cell_type": "code",
   "execution_count": 13,
   "metadata": {},
   "outputs": [
    {
     "name": "stderr",
     "output_type": "stream",
     "text": [
      "Parent run dca8b972-9c67-4c64-965e-ac040ce6c3fd not found for run a03b748f-a0ec-40ba-8442-992d8f5dd039. Treating as a root run.\n"
     ]
    },
    {
     "data": {
      "text/plain": [
       "'The podcast discusses the recent military operation in Gaza, focusing on the conflict between the Israeli government and Hamas. The conversation touches on the lack of alignment between the two parties, the potential long-term effects of the conflict, and the implications for future events such as diplomatic trips and political gatherings.'"
      ]
     },
     "execution_count": 13,
     "metadata": {},
     "output_type": "execute_result"
    }
   ],
   "source": [
    "conversational_rag_chain.invoke(\n",
    "    {\"input\": \"Give me the summary of the podcast.\"},\n",
    "    config={\n",
    "        \"configurable\": {\"session_id\": \"abc123\"}\n",
    "    },  # constructs a key \"abc123\" in `store`.\n",
    ")[\"answer\"]"
   ]
  },
  {
   "cell_type": "code",
   "execution_count": 14,
   "metadata": {},
   "outputs": [
    {
     "data": {
      "text/plain": [
       "{'dimension': 1536,\n",
       " 'index_fullness': 0.0,\n",
       " 'namespaces': {'skull0412': {'vector_count': 49}},\n",
       " 'total_vector_count': 49}"
      ]
     },
     "execution_count": 14,
     "metadata": {},
     "output_type": "execute_result"
    }
   ],
   "source": [
    "index = pc.Index(index_name)\n",
    "index.describe_index_stats() "
   ]
  },
  {
   "cell_type": "code",
   "execution_count": 6,
   "metadata": {},
   "outputs": [
    {
     "name": "stderr",
     "output_type": "stream",
     "text": [
      "Parent run b8448b42-15b5-4db1-8dd8-da7b28505d35 not found for run 1fe3d438-5c2f-4ee2-ad4a-0c6a74d994cc. Treating as a root run.\n"
     ]
    },
    {
     "data": {
      "text/plain": [
       "'Hamas has faced significant damage to its military capabilities, but they are still able to continue launching rockets against Israel. The Israeli government and many in Israel want Hamas destroyed, including their leadership and fighters, but they have not achieved that military outcome yet.'"
      ]
     },
     "execution_count": 6,
     "metadata": {},
     "output_type": "execute_result"
    }
   ],
   "source": [
    "conversational_rag_chain.invoke(\n",
    "    {\"input\": \"Give me answer to my previous question again?\"},\n",
    "    config={\n",
    "        \"configurable\": {\"session_id\": \"abc123\"}\n",
    "    },  # constructs a key \"abc123\" in `store`.\n",
    ")[\"answer\"]"
   ]
  }
 ],
 "metadata": {
  "kernelspec": {
   "display_name": "env",
   "language": "python",
   "name": "python3"
  },
  "language_info": {
   "codemirror_mode": {
    "name": "ipython",
    "version": 3
   },
   "file_extension": ".py",
   "mimetype": "text/x-python",
   "name": "python",
   "nbconvert_exporter": "python",
   "pygments_lexer": "ipython3",
   "version": "3.8.10"
  }
 },
 "nbformat": 4,
 "nbformat_minor": 2
}
